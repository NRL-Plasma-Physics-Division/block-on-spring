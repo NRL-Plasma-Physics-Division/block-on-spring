{
 "cells": [
  {
   "cell_type": "markdown",
   "source": [
    "# TurboPy tutorial\n",
    "\n",
    "This notebook shows an example app simulating the motion of a block on a spring using the turboPy framework. This app will estimate the position and momentum over time of a block attached to a spring.\n",
    "\n",
    "The equations of motion for a block on a spring are\n",
    "\\begin{equation*}\n",
    "\\frac{dx}{dt} = \\frac{p}{m}, \\\\\n",
    "\\frac{dp}{dt} = - k x,\n",
    "\\end{equation*}\n",
    "where $m$ is the mass of the block, and $k$ is the spring constant.\n",
    "\n",
    "In order to solve these equations, we will create a custom `PhysicsModule` which will store the parameters $m$ and $k$, and take care of updating the position and momentum of the block at each time step.\n",
    "\n",
    "We first need to make the necessary imports:"
   ],
   "metadata": {}
  },
  {
   "cell_type": "code",
   "execution_count": null,
   "source": [
    "from turbopy import Simulation, PhysicsModule, Diagnostic, CSVOutputUtility, ComputeTool\n",
    "import numpy as np"
   ],
   "outputs": [],
   "metadata": {}
  },
  {
   "cell_type": "markdown",
   "source": [
    "We will also import matplotlib. This is not necessary to run the turboPy framework, but it will be used in this example for the sake of demonstration."
   ],
   "metadata": {}
  },
  {
   "cell_type": "code",
   "execution_count": null,
   "source": [
    "import matplotlib.pyplot as plt"
   ],
   "outputs": [],
   "metadata": {}
  },
  {
   "cell_type": "markdown",
   "source": [
    "Then create subclasses for the `PhysicsModule` and `Diagnostic` classes and override the necessary methods. These classes hold data necessary for the simulation that will be specified later."
   ],
   "metadata": {}
  },
  {
   "cell_type": "code",
   "execution_count": null,
   "source": [
    "class BlockOnSpring(PhysicsModule):\n",
    "    \"\"\"Use turboPy to compute the motion of a block on a spring\"\"\"\n",
    "\n",
    "    def __init__(self, owner: Simulation, input_data: dict):\n",
    "        super().__init__(owner, input_data)\n",
    "        self.position = np.zeros((1, 3))\n",
    "        self.momentum = np.zeros((1, 3))\n",
    "        self.mass = input_data.get('mass', 1)\n",
    "        self.spring_constant = input_data.get('spring_constant', 1)\n",
    "        self.push = owner.find_tool_by_name(input_data[\"pusher\"]).push\n",
    "\n",
    "        self._resources_to_share = {\n",
    "            \"Block:position\": self.position,\n",
    "            \"Block:momentum\": self.momentum\n",
    "        }\n",
    "\n",
    "    def initialize(self):\n",
    "        self.position[:] = np.array(self._input_data[\"x0\"])\n",
    "\n",
    "    def update(self):\n",
    "        self.push(self.position, self.momentum,\n",
    "                  self.mass, self.spring_constant)"
   ],
   "outputs": [],
   "metadata": {}
  },
  {
   "cell_type": "code",
   "execution_count": null,
   "source": [
    "class BlockDiagnostic(Diagnostic):\n",
    "    def __init__(self, owner: Simulation, input_data: dict):\n",
    "        super().__init__(owner, input_data)\n",
    "        self.data = None\n",
    "        self.component = input_data.get(\"component\", 1)\n",
    "        self.output_function = None\n",
    "        self.csv = None\n",
    "\n",
    "        self._needed_resources = {\"Block:\" + self.component: \"data\"}\n",
    "\n",
    "    def diagnose(self):\n",
    "        self.output_function(self.data[0, :])\n",
    "\n",
    "    def initialize(self):\n",
    "        # setup output method\n",
    "        functions = {\"stdout\": self.print_diagnose,\n",
    "                     \"csv\": self.csv_diagnose,\n",
    "                     }\n",
    "        self.output_function = functions[self._input_data[\"output_type\"]]\n",
    "        if self._input_data[\"output_type\"] == \"csv\":\n",
    "            diagnostic_size = (self._owner.clock.num_steps + 1, 3)\n",
    "            self.csv = CSVOutputUtility(\n",
    "                self._input_data[\"filename\"],\n",
    "                diagnostic_size)\n",
    "\n",
    "    def finalize(self):\n",
    "        self.diagnose()\n",
    "        if self._input_data[\"output_type\"] == \"csv\":\n",
    "            self.csv.finalize()\n",
    "\n",
    "    def print_diagnose(self, data):\n",
    "        print(data)\n",
    "\n",
    "    def csv_diagnose(self, data):\n",
    "        self.csv.append(data)"
   ],
   "outputs": [],
   "metadata": {}
  },
  {
   "cell_type": "markdown",
   "source": [
    "Then we create a subclass of the `ComputeTool` class to implement the math behind the simulation. For this example, we'll be using the Leapfrog integration method. For each time step, the Leapfrog method first updates the position using the current position and momentum values. It then uses the updated position and time values to calculate the next momentum value.\n",
    "\n",
    "\\begin{equation*}\n",
    "x_{n+1} = x_{n} + \\Delta t * \\frac{p_n}{m} \\\\\n",
    "p_{n+1} = p_{n} - \\Delta t * k * x_{n+1}\n",
    "\\end{equation*}\n",
    "\n",
    "Where $x$ is the position, $p$ is the momentum, $\\Delta t$ is the time step, $k$ is the spring constant, and $m$ is the mass of the block."
   ],
   "metadata": {}
  },
  {
   "cell_type": "code",
   "execution_count": null,
   "source": [
    "class Leapfrog(ComputeTool):\n",
    "    \"\"\"Implementation of the leapfrog algorithm\"\"\"\n",
    "\n",
    "    def __init__(self, owner: Simulation, input_data: dict):\n",
    "        super().__init__(owner, input_data)\n",
    "        self.dt = None\n",
    "\n",
    "    def initialize(self):\n",
    "        self.dt = self._owner.clock.dt\n",
    "\n",
    "    def push(self, position, momentum, mass, spring_constant):\n",
    "        position[:] = position + self.dt * momentum / mass\n",
    "        momentum[:] = momentum - self.dt * spring_constant * position"
   ],
   "outputs": [],
   "metadata": {}
  },
  {
   "cell_type": "markdown",
   "source": [
    "We need to add each of these new classes to the `_registry` attribute for their superclasses."
   ],
   "metadata": {}
  },
  {
   "cell_type": "code",
   "execution_count": null,
   "source": [
    "PhysicsModule.register(\"BlockOnSpring\", BlockOnSpring)\n",
    "Diagnostic.register(\"BlockDiagnostic\", BlockDiagnostic)\n",
    "ComputeTool.register(\"Leapfrog\", Leapfrog)"
   ],
   "outputs": [],
   "metadata": {}
  },
  {
   "cell_type": "markdown",
   "source": [
    "The `Simulation` class takes a dictionary of input data as an argument, which contains all the necessary information for the simulation to run. The simulation is designed to save the outputs (time, position, momentum) to csv files using the `CSVOutputUtility` class. The `Diagnostics` keyword of the dictionary tells the simulation where to save the outputs."
   ],
   "metadata": {}
  },
  {
   "cell_type": "code",
   "execution_count": null,
   "source": [
    "input_data = {\n",
    "    \"Grid\": {\"N\": 2, \"x_min\": 0, \"x_max\": 1},\n",
    "    \"Clock\": {\"start_time\": 0,\n",
    "              \"end_time\": 10,\n",
    "              \"num_steps\": 100},\n",
    "    \"PhysicsModules\": {\n",
    "        \"BlockOnSpring\": {\n",
    "            \"mass\": 1,\n",
    "            \"spring_constant\": 1,\n",
    "            \"pusher\": \"Leapfrog\",\n",
    "            \"x0\": [0, 1, 0],\n",
    "        }\n",
    "    },\n",
    "    \"Tools\": {\n",
    "        \"Leapfrog\": {},\n",
    "    },\n",
    "    \"Diagnostics\": {\n",
    "        # default values come first\n",
    "        \"directory\": \"output_leapfrog/\",\n",
    "        \"output_type\": \"csv\",\n",
    "        \"clock\": {\"filename\": \"time.csv\"},\n",
    "        \"BlockDiagnostic\": [\n",
    "            {'component': 'momentum', 'filename': 'block_p.csv'},\n",
    "            {'component': 'position', 'filename': 'block_x.csv'}\n",
    "        ]\n",
    "    }\n",
    "}"
   ],
   "outputs": [],
   "metadata": {}
  },
  {
   "cell_type": "markdown",
   "source": [
    "Once everything is set up, running the simulation is simple."
   ],
   "metadata": {}
  },
  {
   "cell_type": "code",
   "execution_count": null,
   "source": [
    "sim = Simulation(input_data)\n",
    "sim.run()"
   ],
   "outputs": [],
   "metadata": {}
  },
  {
   "cell_type": "markdown",
   "source": [
    "Since the simulation is not designed to plot the outputs directly, we'll have to set that up ourselves. After running the simulation, the ouputs are stored in the `buffer` variable by instances of the `CSVOutputUtility` class in each of the objects in the `diagnostics` list owned by the main simulation. For this simulation, the first item in the list is an instance of the `ClockDiagnostic` class which stores the time values, and the second and third items are instances of the `BlockDiagnostic` class created above. The second item stores the momentum values and the third item stores the position values."
   ],
   "metadata": {}
  },
  {
   "cell_type": "code",
   "execution_count": null,
   "source": [
    "print(sim.diagnostics)"
   ],
   "outputs": [],
   "metadata": {}
  },
  {
   "cell_type": "markdown",
   "source": [
    "Now we can plot the data. For this example, we'll plot momentum over time, position over time, and momentum over position."
   ],
   "metadata": {}
  },
  {
   "cell_type": "code",
   "execution_count": null,
   "source": [
    "time = sim.diagnostics[0].csv._buffer\n",
    "momentum = sim.diagnostics[1].csv._buffer[:,1]\n",
    "position = sim.diagnostics[2].csv._buffer[:,1]\n",
    "\n",
    "plt.plot(time, momentum)\n",
    "plt.xlabel('Time')\n",
    "plt.ylabel('Momentum')\n",
    "plt.show()\n",
    "\n",
    "plt.plot(time, position)\n",
    "plt.xlabel('Time')\n",
    "plt.ylabel('Position')\n",
    "plt.show()\n",
    "\n",
    "plt.plot(position, momentum)\n",
    "plt.xlabel('Position')\n",
    "plt.ylabel('Momentum')\n",
    "plt.show()"
   ],
   "outputs": [],
   "metadata": {}
  },
  {
   "cell_type": "code",
   "execution_count": null,
   "source": [],
   "outputs": [],
   "metadata": {}
  }
 ],
 "metadata": {
  "kernelspec": {
   "name": "python3",
   "display_name": "Python 3.9.6 64-bit ('turbopy': conda)"
  },
  "language_info": {
   "codemirror_mode": {
    "name": "ipython",
    "version": 3
   },
   "file_extension": ".py",
   "mimetype": "text/x-python",
   "name": "python",
   "nbconvert_exporter": "python",
   "pygments_lexer": "ipython3",
   "version": "3.9.6"
  },
  "interpreter": {
   "hash": "3c85dda6ab4af7c8c0db27b09458e4a611370dd9bf0c56229e625e6adaa545a2"
  }
 },
 "nbformat": 4,
 "nbformat_minor": 4
}